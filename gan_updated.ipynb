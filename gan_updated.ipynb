{
 "cells": [
  {
   "cell_type": "code",
   "execution_count": 1,
   "metadata": {},
   "outputs": [],
   "source": [
    "# Jupyter Notebook Content"
   ]
  },
  {
   "cell_type": "code",
   "execution_count": null,
   "metadata": {},
   "outputs": [],
   "source": [
    "# Imports\n",
    "\n",
    "import torch\n",
    "import torch.nn as nn\n",
    "import torch.optim as optim"
   ]
  },
  {
   "cell_type": "code",
   "execution_count": null,
   "metadata": {},
   "outputs": [],
   "source": [
    "# Step 1: Create and Train a Simple Neural Network in PyTorch\n",
    "# Define a simple neural network\n",
    "class SimpleNN(nn.Module):\n",
    "    def __init__(self):\n",
    "        super(SimpleNN, self).__init__()\n",
    "        self.fc1 = nn.Linear(3, 2)\n",
    "\n",
    "    def forward(self, x):\n",
    "        x = torch.relu(self.fc1(x))\n",
    "        return x\n"
   ]
  },
  {
   "cell_type": "code",
   "execution_count": null,
   "metadata": {},
   "outputs": [],
   "source": [
    "\n",
    "# Instantiate the model, define the loss function and the optimizer\n",
    "model = SimpleNN()\n",
    "criterion = nn.MSELoss()\n",
    "optimizer = optim.SGD(model.parameters(), lr=0.01)\n"
   ]
  },
  {
   "cell_type": "code",
   "execution_count": null,
   "metadata": {},
   "outputs": [],
   "source": [
    "\n",
    "# Generate some dummy data for training\n",
    "x_train = torch.randn(100, 3)\n",
    "y_train = torch.randn(100, 2)\n"
   ]
  },
  {
   "cell_type": "code",
   "execution_count": null,
   "metadata": {},
   "outputs": [],
   "source": [
    "\n",
    "# Train the model\n",
    "num_epochs = 10\n",
    "for epoch in range(num_epochs):\n",
    "    model.train()\n",
    "    optimizer.zero_grad()\n",
    "    outputs = model(x_train)\n",
    "    loss = criterion(outputs, y_train)\n",
    "    loss.backward()\n",
    "    optimizer.step()\n",
    "    print(f'Epoch [{epoch+1}/{num_epochs}], Loss: {loss.item():.4f}')\n"
   ]
  },
  {
   "cell_type": "code",
   "execution_count": null,
   "metadata": {},
   "outputs": [],
   "source": [
    "# Save the trained model\n",
    "torch.save(model.state_dict(), 'simple_nn.pth')"
   ]
  },
  {
   "cell_type": "code",
   "execution_count": null,
   "metadata": {},
   "outputs": [],
   "source": [
    "# Step 2: Convert the Model to Verilog Using main.py"
   ]
  },
  {
   "cell_type": "code",
   "execution_count": null,
   "metadata": {},
   "outputs": [],
   "source": [
    "# Ensure the main.py is available in the same directory\n",
    "import os\n",
    "import subprocess"
   ]
  },
  {
   "cell_type": "code",
   "execution_count": null,
   "metadata": {},
   "outputs": [],
   "source": [
    "\n",
    "# Run the main.py script to convert the model\n",
    "result = subprocess.run(['python', 'main.py'], capture_output=True, text=True)"
   ]
  },
  {
   "cell_type": "code",
   "execution_count": 2,
   "metadata": {},
   "outputs": [
    {
     "name": "stdout",
     "output_type": "stream",
     "text": [
      "Epoch [1/10], Loss: 1.4482\n",
      "Epoch [2/10], Loss: 1.4416\n",
      "Epoch [3/10], Loss: 1.4352\n",
      "Epoch [4/10], Loss: 1.4290\n",
      "Epoch [5/10], Loss: 1.4228\n",
      "Epoch [6/10], Loss: 1.4167\n",
      "Epoch [7/10], Loss: 1.4108\n",
      "Epoch [8/10], Loss: 1.4049\n",
      "Epoch [9/10], Loss: 1.3992\n",
      "Epoch [10/10], Loss: 1.3936\n",
      "\n",
      "        // Linear Layer 0\n",
      "        module linear_layer_0 (\n",
      "            input logic [2:0] in,\n",
      "            output logic [1:0] out\n",
      "        );\n",
      "        // Weight matrix\n",
      "        logic [2:0] weights [1:0] = {{0.48579237, -0.22360604}, {0.4648458, 0.3082895}, {0.0020028357, 0.12992047}};\n",
      "        // Bias vector\n",
      "        logic [1:0] bias = {0.33699694, -0.32189345};\n",
      "\n",
      "        always_comb begin\n",
      "            out = bias;\n",
      "            for (int i = 0; i < 2; i++) begin\n",
      "                for (int j = 0; j < 3; j++) begin\n",
      "                    out[i] = out[i] + in[j] * weights[i][j];\n",
      "                end\n",
      "            end\n",
      "        end\n",
      "        endmodule\n",
      "        \n",
      "Verilog code saved to generated_model.v\n",
      "\n",
      "\n"
     ]
    }
   ],
   "source": [
    "# Print the output and error (if any)\n",
    "print(result.stdout)\n",
    "print(result.stderr)\n"
   ]
  },
  {
   "cell_type": "code",
   "execution_count": null,
   "metadata": {},
   "outputs": [],
   "source": []
  }
 ],
 "metadata": {
  "accelerator": "GPU",
  "colab": {
   "gpuType": "T4",
   "provenance": []
  },
  "kernelspec": {
   "display_name": "Python 3 (ipykernel)",
   "language": "python",
   "name": "python3"
  },
  "language_info": {
   "codemirror_mode": {
    "name": "ipython",
    "version": 3
   },
   "file_extension": ".py",
   "mimetype": "text/x-python",
   "name": "python",
   "nbconvert_exporter": "python",
   "pygments_lexer": "ipython3",
   "version": "3.11.5"
  }
 },
 "nbformat": 4,
 "nbformat_minor": 4
}
